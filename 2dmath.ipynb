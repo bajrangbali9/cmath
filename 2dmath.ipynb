{
 "cells": [
  {
   "cell_type": "code",
   "execution_count": 1,
   "id": "f651044d",
   "metadata": {
    "scrolled": true
   },
   "outputs": [],
   "source": [
    "def add(v1,v2): \n",
    " return (v1[0] + v2[0], v1[1] + v2[1]) "
   ]
  },
  {
   "cell_type": "code",
   "execution_count": 2,
   "id": "20235b19",
   "metadata": {},
   "outputs": [],
   "source": [
    "from math import sqrt \n",
    "def length(v): \n",
    " return sqrt(v[0]**2 + v[1]**2) "
   ]
  },
  {
   "cell_type": "code",
   "execution_count": 3,
   "id": "d52529f1",
   "metadata": {},
   "outputs": [],
   "source": [
    "def translate(translation, vectors): \n",
    " return [add(translation, v) for v in vectors] "
   ]
  },
  {
   "cell_type": "code",
   "execution_count": 4,
   "id": "3e2975d0",
   "metadata": {},
   "outputs": [],
   "source": [
    "def scale(scalar,v): \n",
    " return (scalar * v[0], scalar * v[1])"
   ]
  },
  {
   "cell_type": "code",
   "execution_count": 5,
   "id": "a01355a2",
   "metadata": {},
   "outputs": [],
   "source": [
    "def subtract(v1,v2): \n",
    " return (v1[0] - v2[0], v1[1] - v2[1])"
   ]
  },
  {
   "cell_type": "code",
   "execution_count": 6,
   "id": "b1eba3b0",
   "metadata": {},
   "outputs": [],
   "source": [
    "def distance(v1,v2): \n",
    " return length(subtract(v1,v2))"
   ]
  },
  {
   "cell_type": "code",
   "execution_count": 7,
   "id": "cc637592",
   "metadata": {},
   "outputs": [],
   "source": [
    "def perimeter(vectors): \n",
    " distances = [distance(vectors[i], vectors[(i+1)%len(vectors)]) \n",
    " for i in range(0,len(vectors))] \n",
    " return sum(distances)"
   ]
  },
  {
   "cell_type": "code",
   "execution_count": 14,
   "id": "4008eafa",
   "metadata": {},
   "outputs": [],
   "source": [
    "from math import sin, cos, atan2 \n",
    "def to_cartesian(polar_vector): \n",
    " length, angle = polar_vector[0], polar_vector[1] \n",
    " return (length*cos(angle), length*sin(angle)) "
   ]
  },
  {
   "cell_type": "code",
   "execution_count": 15,
   "id": "36889134",
   "metadata": {},
   "outputs": [],
   "source": [
    "def to_polar(vector): \n",
    " x, y = vector[0], vector[1] \n",
    " angle = atan2(y,x) \n",
    " return (length(vector), angle) "
   ]
  },
  {
   "cell_type": "code",
   "execution_count": 16,
   "id": "91cf7685",
   "metadata": {},
   "outputs": [],
   "source": [
    "def rotate(angle, vectors): \n",
    " polars = [to_polar(v) for v in vectors] \n",
    " return [to_cartesian((l, a+angle)) for l,a in polars] "
   ]
  },
  {
   "cell_type": "code",
   "execution_count": 18,
   "id": "6127add6",
   "metadata": {},
   "outputs": [],
   "source": [
    "def regular_polygon(n): \n",
    " return [to_cartesian((1, 2*pi*k/n)) for k in range(0,n)] "
   ]
  },
  {
   "cell_type": "code",
   "execution_count": null,
   "id": "0c4f14b2",
   "metadata": {},
   "outputs": [],
   "source": []
  }
 ],
 "metadata": {
  "kernelspec": {
   "display_name": "Python 3 (ipykernel)",
   "language": "python",
   "name": "python3"
  },
  "language_info": {
   "codemirror_mode": {
    "name": "ipython",
    "version": 3
   },
   "file_extension": ".py",
   "mimetype": "text/x-python",
   "name": "python",
   "nbconvert_exporter": "python",
   "pygments_lexer": "ipython3",
   "version": "3.10.10"
  }
 },
 "nbformat": 4,
 "nbformat_minor": 5
}
